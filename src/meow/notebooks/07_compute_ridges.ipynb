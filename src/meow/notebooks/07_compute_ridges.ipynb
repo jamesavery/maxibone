{
 "cells": [
  {
   "cell_type": "code",
   "execution_count": 12,
   "metadata": {},
   "outputs": [],
   "source": [
    "import subprocess\n",
    "import os\n",
    "\n",
    "from config.paths import maxibone_root\n",
    "from pathlib import Path"
   ]
  },
  {
   "cell_type": "code",
   "execution_count": null,
   "metadata": {},
   "outputs": [],
   "source": [
    "# Input: \n",
    "# /data/MAXIBONE/Goats/tomograms/processed/histograms/{sample}/bins.npz\n",
    "# Inevitable Output:\n",
    "# /data/MAXIBONE/Goats/tomograms/processed/histograms/{sample}\n",
    "# /data/MAXIBONE/Goats/tomograms/processed/histograms/{sample}/{sample}_labeled\n",
    "\n",
    "cmd_path_comp_ridges = os.path.join(maxibone_root, \"src/histogram_processing/compute_ridges.py\")\n",
    "\n",
    "trigger_file = \"\"\n",
    "if trigger_file:\n",
    "    sample = Path(trigger_file).stem\n",
    "else:\n",
    "    sample = \"775\"\n",
    "output_flag = \"\"\n",
    "\n",
    "histogram_k = \"histogram\"\n",
    "histogram_v = f\"/data/MAXIBONE/Goats/tomograms/processed/histograms/{sample}/bins.npz\"\n",
    "batch_k = \"--batch\"\n",
    "batch_v = True # If this is False this will run with a GUI, which should probably be avoided\n",
    "config_k = \"--config\"\n",
    "config_v = \"config.json\"\n",
    "dry_run_k = \"--dry_run\"\n",
    "dry_run_v = False\n",
    "output_k = \"--output\"\n",
    "output_v = \"output\"\n",
    "peaks_k = \"--peaks\"\n",
    "peaks_v = False\n",
    "verbose_k = \"--verbose\"\n",
    "verbose_v = False\n",
    "\n",
    "completed_process = subprocess.run(\n",
    "    [\n",
    "        \"python3\", \n",
    "        cmd_path_comp_ridges, \n",
    "        histogram_k, histogram_v,\n",
    "        batch_k, str(batch_v),\n",
    "        config_k, config_v,\n",
    "        dry_run_k, str(dry_run_v),\n",
    "        output_k, output_v,\n",
    "        peaks_k, str(peaks_v),\n",
    "        verbose_k, str(verbose_v),\n",
    "    ], \n",
    "    capture_output=True\n",
    ")\n",
    "\n",
    "print(\"---- stdout:\")\n",
    "print(completed_process.stdout)\n",
    "print(\"---- stderr:\")\n",
    "print(completed_process.stderr)"
   ]
  },
  {
   "cell_type": "code",
   "execution_count": null,
   "metadata": {},
   "outputs": [],
   "source": [
    "if os.path.exists(trigger_file):\n",
    "    os.remove(trigger_file)\n",
    "\n",
    "if completed_process.returncode == 0:\n",
    "    open(output_flag, 'w').close()\n",
    "else:\n",
    "    raise Exception"
   ]
  }
 ],
 "metadata": {
  "kernelspec": {
   "display_name": "Python 3",
   "language": "python",
   "name": "python3"
  },
  "language_info": {
   "codemirror_mode": {
    "name": "ipython",
    "version": 3
   },
   "file_extension": ".py",
   "mimetype": "text/x-python",
   "name": "python",
   "nbconvert_exporter": "python",
   "pygments_lexer": "ipython3",
   "version": "3.8.10"
  },
  "orig_nbformat": 4
 },
 "nbformat": 4,
 "nbformat_minor": 2
}
