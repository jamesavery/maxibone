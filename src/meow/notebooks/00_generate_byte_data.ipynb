{
 "cells": [
  {
   "cell_type": "code",
   "execution_count": 12,
   "metadata": {},
   "outputs": [],
   "source": [
    "import subprocess\n",
    "import os\n",
    "\n",
    "from config.paths import esrf_implants_root\n",
    "from pathlib import Path"
   ]
  },
  {
   "cell_type": "code",
   "execution_count": 13,
   "metadata": {},
   "outputs": [],
   "source": [
    "# Input: \n",
    "# /data/MAXIBONE/manjula.esci.nbi.dk.2_localhost/esrf_dental_implants_april_2013//index/{sample}.txt\n",
    "# Inevitable Output:\n",
    "# /data/MAXIBONE/Goats/tomograms/hdf5-byte/msb/{sample}.h5\n",
    "# /data/MAXIBONE/Goats/tomograms/hdf5-byte/lsb/{sample}.h5\n",
    "\n",
    "cmd_path_gen_byte_h5 = \"../scripts/generate-byte-hdf5.py\"\n",
    "cmd_path_gen_byte_h5 = os.path.abspath(cmd_path_gen_byte_h5)\n",
    "\n",
    "trigger_file = \"\"\n",
    "if trigger_file:\n",
    "    sample = Path(trigger_file).stem\n",
    "else:\n",
    "    sample = \"775\"\n",
    "output_flag = \"\"\n",
    "\n",
    "chunk_lenth = 256\n",
    "use_bohrium = True\n",
    "xml_root = esrf_implants_root\n",
    "\n",
    "subprocess.run(\n",
    "    [\n",
    "        \"python3\", \n",
    "        cmd_path_gen_byte_h5, \n",
    "        sample, \n",
    "        str(chunk_lenth), \n",
    "        str(use_bohrium), \n",
    "        xml_root\n",
    "    ], \n",
    "    capture_output=True\n",
    ")"
   ]
  },
  {
   "cell_type": "code",
   "execution_count": null,
   "metadata": {},
   "outputs": [],
   "source": [
    "if os.path.exists(trigger_file):\n",
    "    os.remove(trigger_file)\n",
    "\n",
    "open(output_flag, 'w').close()"
   ]
  }
 ],
 "metadata": {
  "kernelspec": {
   "display_name": "Python 3",
   "language": "python",
   "name": "python3"
  },
  "language_info": {
   "codemirror_mode": {
    "name": "ipython",
    "version": 3
   },
   "file_extension": ".py",
   "mimetype": "text/x-python",
   "name": "python",
   "nbconvert_exporter": "python",
   "pygments_lexer": "ipython3",
   "version": "3.8.10"
  },
  "orig_nbformat": 4
 },
 "nbformat": 4,
 "nbformat_minor": 2
}
