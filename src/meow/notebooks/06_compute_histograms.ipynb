{
 "cells": [
  {
   "cell_type": "code",
   "execution_count": 12,
   "metadata": {},
   "outputs": [],
   "source": [
    "import subprocess\n",
    "import os\n",
    "\n",
    "from pathlib import Path"
   ]
  },
  {
   "cell_type": "code",
   "execution_count": null,
   "metadata": {},
   "outputs": [],
   "source": [
    "# Input: \n",
    "# /data/MAXIBONE/Goats/tomograms/hdf5-byte/msb/{sample}.h5\n",
    "# /data/MAXIBONE/Goats/tomograms/hdf5-byte/lsb/{sample}.h5\n",
    "# /data/MAXIBONE/Goats/tomograms/processed/implant-edt/2x/{sample}.h5\n",
    "# Inevitable Output:\n",
    "# /data/MAXIBONE/Goats/tomograms/processed/histograms/{sample}/xb.png\n",
    "# /data/MAXIBONE/Goats/tomograms/processed/histograms/{sample}/yb.png\n",
    "# /data/MAXIBONE/Goats/tomograms/processed/histograms/{sample}/zb.png\n",
    "# /data/MAXIBONE/Goats/tomograms/processed/histograms/{sample}/rb.png\n",
    "# /data/MAXIBONE/Goats/tomograms/processed/histograms/{sample}/fb.png \n",
    "# /data/MAXIBONE/Goats/tomograms/processed/histograms/{sample}/bins.npz\n",
    "\n",
    "cmd_path_comp_hist = \"../histogram_processing/compute_histograms.py\"\n",
    "cmd_path_comp_hist = os.path.abspath(cmd_path_comp_hist)\n",
    "\n",
    "trigger_file = \"\"\n",
    "if trigger_file:\n",
    "    sample = Path(trigger_file).stem\n",
    "else:\n",
    "    sample = \"775\"\n",
    "output_flag = \"\"\n",
    "\n",
    "subprocess.run(\n",
    "    [\n",
    "        \"python3\", \n",
    "        cmd_path_comp_hist, \n",
    "        sample, \n",
    "    ], \n",
    "    capture_output=True\n",
    ")"
   ]
  },
  {
   "cell_type": "code",
   "execution_count": null,
   "metadata": {},
   "outputs": [],
   "source": [
    "if os.path.exists(trigger_file):\n",
    "    os.remove(trigger_file)\n",
    "\n",
    "open(output_flag, 'w').close()"
   ]
  }
 ],
 "metadata": {
  "kernelspec": {
   "display_name": "Python 3",
   "language": "python",
   "name": "python3"
  },
  "language_info": {
   "codemirror_mode": {
    "name": "ipython",
    "version": 3
   },
   "file_extension": ".py",
   "mimetype": "text/x-python",
   "name": "python",
   "nbconvert_exporter": "python",
   "pygments_lexer": "ipython3",
   "version": "3.8.10"
  },
  "orig_nbformat": 4
 },
 "nbformat": 4,
 "nbformat_minor": 2
}
