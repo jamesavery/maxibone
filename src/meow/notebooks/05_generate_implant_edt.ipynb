{
 "cells": [
  {
   "cell_type": "code",
   "execution_count": 12,
   "metadata": {},
   "outputs": [],
   "source": [
    "import subprocess\n",
    "import os\n",
    "\n",
    "from config.paths import maxibone_root\n",
    "from pathlib import Path"
   ]
  },
  {
   "cell_type": "code",
   "execution_count": null,
   "metadata": {},
   "outputs": [],
   "source": [
    "# Input: \n",
    "# /data/MAXIBONE/Goats/tomograms/processed/implant/{scale}x/{sample}.h5\n",
    "# Inevitable Output:\n",
    "# /data/MAXIBONE/Goats/tomograms/processed/implant/{scale}x/{sample}-edt.h5\n",
    "\n",
    "cmd_path_imp_edt = os.path.join(maxibone_root, \"src/preprocess/generate-implant-edt.py\")\n",
    "\n",
    "trigger_file = \"\"\n",
    "if trigger_file:\n",
    "    sample = Path(trigger_file).stem\n",
    "else:\n",
    "    sample = \"775\"\n",
    "output_flag = \"\"\n",
    "\n",
    "scale = 1\n",
    "chunk_size = 200\n",
    "padding = 28\n",
    "\n",
    "completed_process = subprocess.run(\n",
    "    [\n",
    "        \"python3\", \n",
    "        cmd_path_imp_edt, \n",
    "        sample, \n",
    "        str(scale), \n",
    "        str(chunk_size), \n",
    "        str(padding)\n",
    "    ], \n",
    "    capture_output=True\n",
    ")\n",
    "\n",
    "print(\"---- stdout:\")\n",
    "print(completed_process.stdout)\n",
    "print(\"---- stderr:\")\n",
    "print(completed_process.stderr)"
   ]
  },
  {
   "cell_type": "code",
   "execution_count": null,
   "metadata": {},
   "outputs": [],
   "source": [
    "if os.path.exists(trigger_file):\n",
    "    os.remove(trigger_file)\n",
    "\n",
    "if completed_process.returncode == 0:\n",
    "    open(output_flag, 'w').close()\n",
    "else:\n",
    "    raise Exception"
   ]
  }
 ],
 "metadata": {
  "kernelspec": {
   "display_name": "Python 3",
   "language": "python",
   "name": "python3"
  },
  "language_info": {
   "codemirror_mode": {
    "name": "ipython",
    "version": 3
   },
   "file_extension": ".py",
   "mimetype": "text/x-python",
   "name": "python",
   "nbconvert_exporter": "python",
   "pygments_lexer": "ipython3",
   "version": "3.8.10"
  },
  "orig_nbformat": 4
 },
 "nbformat": 4,
 "nbformat_minor": 2
}
