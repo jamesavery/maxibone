{
 "cells": [
  {
   "cell_type": "code",
   "execution_count": 1,
   "metadata": {},
   "outputs": [],
   "source": [
    "import sys\n",
    "sys.path.append(sys.path[0]+\"/../\")\n",
    "import h5py\n",
    "import pybind_kernels.histograms as histograms\n",
    "import pybind_kernels.label as label\n",
    "import numpy as np\n",
    "from config.paths import binary_root, hdf5_root_fast as hdf5_root\n",
    "from tqdm import tqdm\n",
    "from scipy import ndimage as ndi\n",
    "import timeit\n",
    "from PIL import Image\n",
    "import matplotlib.pyplot as plt\n",
    "NA = np.newaxis\n",
    "\n",
    "def sphere(n):\n",
    "    xs = np.linspace(-1,1,n)\n",
    "    return (xs[:,NA,NA]**2 + xs[NA,:,NA]**2 + xs[NA,NA,:]**2) <= 1\n",
    "\n",
    "\n",
    "# TODO commandline arguments\n",
    "scale = 8\n",
    "sample = '770c_pag'\n",
    "verify_ndi = True\n",
    "output_dir = 'aoeu'\n",
    "\n",
    "#with np.load(f\"{binary_root}/masks/implant/{scale}x/{sample}.npz\") as f:\n",
    "#    implant_mask = f['implant_mask'][:,:,:]\n",
    "\n",
    "implant_mask = np.zeros((200,200,200), dtype=np.uint8)\n",
    "\n",
    "implant_mask[:,80:120,80:120] = True\n",
    "implant_mask[80:120,:,80:120] = True\n",
    "implant_mask[80:120,80:120,:] = True\n",
    "\n",
    "nz, ny, nx = implant_mask.shape"
   ]
  },
  {
   "cell_type": "code",
   "execution_count": 2,
   "metadata": {},
   "outputs": [
    {
     "data": {
      "text/plain": [
       "<matplotlib.image.AxesImage at 0x7f94ecd063a0>"
      ]
     },
     "execution_count": 2,
     "metadata": {},
     "output_type": "execute_result"
    },
    {
     "data": {
      "image/png": "[encoded data removed]",
      "text/plain": [
       "<Figure size 432x288 with 1 Axes>"
      ]
     },
     "metadata": {
      "needs_background": "light"
     },
     "output_type": "display_data"
    }
   ],
   "source": [
    "plt.imshow(implant_mask[:,100,:])"
   ]
  },
  {
   "cell_type": "code",
   "execution_count": 3,
   "metadata": {},
   "outputs": [
    {
     "name": "stdout",
     "output_type": "stream",
     "text": [
      "cpu did it in 5.5420195430051535 seconds\n"
     ]
    }
   ],
   "source": [
    "voxels = implant_mask.astype(np.uint8)\n",
    "cpu_result = np.empty_like(voxels)\n",
    "cpu_start = timeit.default_timer()\n",
    "histograms.dilate_3d_sphere_cpu(voxels, 10, cpu_result)\n",
    "cpu_end = timeit.default_timer()\n",
    "cpu_time = cpu_end - cpu_start\n",
    "print (f'cpu did it in {cpu_time} seconds')"
   ]
  },
  {
   "cell_type": "code",
   "execution_count": 4,
   "metadata": {},
   "outputs": [
    {
     "data": {
      "text/plain": [
       "{0, 1}"
      ]
     },
     "execution_count": 4,
     "metadata": {},
     "output_type": "execute_result"
    },
    {
     "data": {
      "image/png": "[encoded data removed]",
      "text/plain": [
       "<Figure size 432x288 with 1 Axes>"
      ]
     },
     "metadata": {
      "needs_background": "light"
     },
     "output_type": "display_data"
    }
   ],
   "source": [
    "plt.imshow(cpu_result[:,100,:])\n",
    "set(cpu_result.flatten())"
   ]
  },
  {
   "cell_type": "code",
   "execution_count": 5,
   "metadata": {},
   "outputs": [
    {
     "name": "stdout",
     "output_type": "stream",
     "text": [
      "gpu did it in 0.3148805829696357 seconds\n"
     ]
    }
   ],
   "source": [
    "gpu_result = np.empty_like(voxels)\n",
    "gpu_start = timeit.default_timer()\n",
    "histograms.dilate_3d_sphere_gpu(voxels, 10, gpu_result)\n",
    "gpu_end = timeit.default_timer()\n",
    "gpu_time = gpu_end - gpu_start;\n",
    "print (f'gpu did it in {gpu_time} seconds')"
   ]
  },
  {
   "cell_type": "code",
   "execution_count": 15,
   "metadata": {},
   "outputs": [
    {
     "name": "stdout",
     "output_type": "stream",
     "text": [
      "ndi did it in 21.587946378975175\n"
     ]
    }
   ],
   "source": [
    "sph = sphere(10)\n",
    "ndi_start = timeit.default_timer()\n",
    "ndi_result = ndi.binary_dilation(voxels, sphere(21))\n",
    "ndi_end = timeit.default_timer()\n",
    "ndi_time = ndi_end - ndi_start\n",
    "print (f'ndi did it in {ndi_time}')"
   ]
  },
  {
   "cell_type": "code",
   "execution_count": 16,
   "metadata": {},
   "outputs": [
    {
     "data": {
      "text/plain": [
       "<matplotlib.image.AxesImage at 0x7f94e4bf8850>"
      ]
     },
     "execution_count": 16,
     "metadata": {},
     "output_type": "execute_result"
    },
    {
     "data": {
      "image/png": "[encoded data removed]",
      "text/plain": [
       "<Figure size 432x288 with 1 Axes>"
      ]
     },
     "metadata": {
      "needs_background": "light"
     },
     "output_type": "display_data"
    }
   ],
   "source": [
    "plt.imshow(ndi_result[:,100,:])"
   ]
  },
  {
   "cell_type": "code",
   "execution_count": 27,
   "metadata": {},
   "outputs": [
    {
     "data": {
      "text/plain": [
       "<matplotlib.image.AxesImage at 0x7f94d052b820>"
      ]
     },
     "execution_count": 27,
     "metadata": {},
     "output_type": "execute_result"
    },
    {
     "data": {
      "image/png": "[encoded data removed]",
      "text/plain": [
       "<Figure size 1440x14400 with 1 Axes>"
      ]
     },
     "metadata": {
      "needs_background": "light"
     },
     "output_type": "display_data"
    }
   ],
   "source": [
    "plt.figure(figsize=(20,200))\n",
    "plt.imshow(np.hstack([ndi_result[:,10,:],gpu_result[:,10,:], ndi_result[:,10,:] - gpu_result[:,10,:]]))"
   ]
  },
  {
   "cell_type": "code",
   "execution_count": 19,
   "metadata": {},
   "outputs": [
    {
     "name": "stdout",
     "output_type": "stream",
     "text": [
      "speedup ndi vs cpu - 3.90\n",
      "speedup ndi vs gpu - 68.56\n",
      "speedup cpu vs gpu - 17.60\n",
      "!!!!! cpu version did not match ndimage !!!!!\n",
      "!!!!! gpu version did not match ndimage !!!!!\n"
     ]
    }
   ],
   "source": [
    "print (f'speedup ndi vs cpu - {ndi_time / cpu_time:.2f}')\n",
    "print (f'speedup ndi vs gpu - {ndi_time / gpu_time:.2f}')\n",
    "print (f'speedup cpu vs gpu - {cpu_time / gpu_time:.2f}')\n",
    "\n",
    "if not np.allclose(cpu_result, ndi_result): print ('!!!!! cpu version did not match ndimage !!!!!')\n",
    "if not np.allclose(gpu_result, ndi_result): print ('!!!!! gpu version did not match ndimage !!!!!')\n",
    "if not np.allclose(cpu_result, gpu_result): print ('!!!!! CPU AND GPU DID NOT MATCH !?!?!? !!!!!')\n",
    "\n",
    "Image.fromarray((cpu_result[nz//2,:,:])).save(f'{output_dir}/cpu-{sample}-xy.png')\n",
    "Image.fromarray((cpu_result[:,ny//2,:])).save(f'{output_dir}/cpu-{sample}-xz.png')\n",
    "Image.fromarray((cpu_result[:,:,nx//2])).save(f'{output_dir}/cpu-{sample}-yz.png')"
   ]
  }
 ],
 "metadata": {
  "interpreter": {
   "hash": "5b3ded1ccb95c1d9bd405e7b823d9e85424cde40fbb5985eb47e999ef50e15b4"
  },
  "kernelspec": {
   "display_name": "Python 3.8.13 64-bit",
   "language": "python",
   "name": "python3"
  },
  "language_info": {
   "codemirror_mode": {
    "name": "ipython",
    "version": 3
   },
   "file_extension": ".py",
   "mimetype": "text/x-python",
   "name": "python",
   "nbconvert_exporter": "python",
   "pygments_lexer": "ipython3",
   "version": "3.8.10"
  },
  "orig_nbformat": 4
 },
 "nbformat": 4,
 "nbformat_minor": 2
}
