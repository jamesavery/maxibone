{
 "cells": [
  {
   "cell_type": "code",
   "execution_count": 12,
   "metadata": {},
   "outputs": [],
   "source": [
    "import subprocess\n",
    "import os\n",
    "\n",
    "from config.paths import maxibone_root\n",
    "from pathlib import Path"
   ]
  },
  {
   "cell_type": "code",
   "execution_count": null,
   "metadata": {},
   "outputs": [],
   "source": [
    "# Input: \n",
    "# /data/MAXIBONE/Goats/tomograms/hdf5-byte/msb/{sample}.h5\n",
    "# /data/MAXIBONE/Goats/tomograms/hdf5-byte/lsb/{sample}.h5\n",
    "# /data/MAXIBONE/Goats/tomograms/processed/implant-edt/2x/{sample}.h5\n",
    "# Inevitable Output:\n",
    "# /data/MAXIBONE/Goats/tomograms/processed/histograms/{sample}/xb.png\n",
    "# /data/MAXIBONE/Goats/tomograms/processed/histograms/{sample}/yb.png\n",
    "# /data/MAXIBONE/Goats/tomograms/processed/histograms/{sample}/zb.png\n",
    "# /data/MAXIBONE/Goats/tomograms/processed/histograms/{sample}/rb.png\n",
    "# /data/MAXIBONE/Goats/tomograms/processed/histograms/{sample}/fb.png \n",
    "# /data/MAXIBONE/Goats/tomograms/processed/histograms/{sample}/bins.npz\n",
    "\n",
    "cmd_path_comp_hist = os.path.join(maxibone_root, \"src/histogram_processing/compute_histograms.py\")\n",
    "\n",
    "trigger_file = \"\"\n",
    "if trigger_file:\n",
    "    sample = Path(trigger_file).stem\n",
    "else:\n",
    "    sample = \"775\"\n",
    "output_flag = \"\"\n",
    "\n",
    "completed_process = subprocess.run(\n",
    "    [\n",
    "        \"python3\", \n",
    "        cmd_path_comp_hist, \n",
    "        sample, \n",
    "    ], \n",
    "    capture_output=True\n",
    ")\n",
    "\n",
    "print(\"---- stdout:\")\n",
    "print(completed_process.stdout)\n",
    "print(\"---- stderr:\")\n",
    "print(completed_process.stderr)"
   ]
  },
  {
   "cell_type": "code",
   "execution_count": null,
   "metadata": {},
   "outputs": [],
   "source": [
    "if os.path.exists(trigger_file):\n",
    "    os.remove(trigger_file)\n",
    "\n",
    "if completed_process.returncode == 0:\n",
    "    open(output_flag, 'w').close()\n",
    "else:\n",
    "    raise Exception"
   ]
  }
 ],
 "metadata": {
  "kernelspec": {
   "display_name": "Python 3",
   "language": "python",
   "name": "python3"
  },
  "language_info": {
   "codemirror_mode": {
    "name": "ipython",
    "version": 3
   },
   "file_extension": ".py",
   "mimetype": "text/x-python",
   "name": "python",
   "nbconvert_exporter": "python",
   "pygments_lexer": "ipython3",
   "version": "3.8.10"
  },
  "orig_nbformat": 4
 },
 "nbformat": 4,
 "nbformat_minor": 2
}
