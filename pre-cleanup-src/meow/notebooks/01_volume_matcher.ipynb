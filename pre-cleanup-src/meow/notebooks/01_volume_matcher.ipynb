{
 "cells": [
  {
   "cell_type": "code",
   "execution_count": 12,
   "metadata": {},
   "outputs": [],
   "source": [
    "import subprocess\n",
    "import os\n",
    "\n",
    "from config.paths import maxibone_root\n",
    "from pathlib import Path"
   ]
  },
  {
   "cell_type": "code",
   "execution_count": null,
   "metadata": {},
   "outputs": [],
   "source": [
    "# Input:\n",
    "# /data/MAXIBONE/Goats/tomograms/hdf5-byte/msb/{sample}.h5\n",
    "# Inevitable Output:\n",
    "# /data/MAXIBONE/Goats/tomograms/processed/volume_matched/{sample}-shifts.npy\n",
    "# Optional Output:\n",
    "# /data/MAXIBONE/Goats/tomograms/processed/volume_matched/1x/{sample}.h5\n",
    "\n",
    "cmd_path_vol_match = os.path.join(maxibone_root, \"src/scripts/volume_matcher.py\")\n",
    "\n",
    "trigger_file = \"\"\n",
    "if trigger_file:\n",
    "    sample = Path(trigger_file).stem\n",
    "else:\n",
    "    sample = \"775\"\n",
    "output_flag = \"\"\n",
    "   \n",
    "\n",
    "overlap = 10\n",
    "max_shift = 150\n",
    "generate_h5 = False\n",
    "\n",
    "completed_process = subprocess.run(\n",
    "    [\n",
    "        \"python3\", \n",
    "        cmd_path_vol_match, \n",
    "        sample, \n",
    "        str(overlap),\n",
    "        str(max_shift), \n",
    "        str(generate_h5)\n",
    "    ], \n",
    "    capture_output=True\n",
    ")\n",
    "\n",
    "print(\"---- stdout:\")\n",
    "print(completed_process.stdout)\n",
    "print(\"---- stderr:\")\n",
    "print(completed_process.stderr)"
   ]
  },
  {
   "cell_type": "code",
   "execution_count": null,
   "metadata": {},
   "outputs": [],
   "source": [
    "if os.path.exists(trigger_file):\n",
    "    os.remove(trigger_file)\n",
    "\n",
    "if completed_process.returncode == 0:\n",
    "    open(output_flag, 'w').close()\n",
    "else:\n",
    "    raise Exception"
   ]
  }
 ],
 "metadata": {
  "kernelspec": {
   "display_name": "Python 3",
   "language": "python",
   "name": "python3"
  },
  "language_info": {
   "codemirror_mode": {
    "name": "ipython",
    "version": 3
   },
   "file_extension": ".py",
   "mimetype": "text/x-python",
   "name": "python",
   "nbconvert_exporter": "python",
   "pygments_lexer": "ipython3",
   "version": "3.8.10"
  },
  "orig_nbformat": 4
 },
 "nbformat": 4,
 "nbformat_minor": 2
}
